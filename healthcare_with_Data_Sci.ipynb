{
 "cells": [
  {
   "metadata": {},
   "cell_type": "markdown",
   "source": [
    "CREATE A VIRTUAL ENVIRONMENT IN THE TERMINAL\n",
    "COMMANDS :\n",
    " python -m venv venv\n",
    ".\\venv\\Scripts\\activate\n"
   ],
   "id": "6b57abc8ec144c7e"
  },
  {
   "metadata": {
    "ExecuteTime": {
     "end_time": "2025-08-30T06:24:16.243766Z",
     "start_time": "2025-08-30T06:24:14.293456Z"
    }
   },
   "cell_type": "code",
   "source": [
    "import pandas as pd\n",
    "import matplotlib.pyplot as plt\n",
    "import seaborn as sns"
   ],
   "id": "b2373c96f58bbb66",
   "outputs": [],
   "execution_count": 5
  },
  {
   "metadata": {
    "ExecuteTime": {
     "end_time": "2025-08-30T06:26:09.096803Z",
     "start_time": "2025-08-30T06:26:09.073244Z"
    }
   },
   "cell_type": "code",
   "source": "medical_rcds = pd.read_csv('/Users/pawanjadhav/PROJECTS/healthcare/medical_records.csv')",
   "id": "fded0fc8635d05bc",
   "outputs": [],
   "execution_count": 7
  },
  {
   "metadata": {},
   "cell_type": "markdown",
   "source": "Exploring the Data and Understanding the Data Structure",
   "id": "6bfb23ad69f4f024"
  },
  {
   "metadata": {
    "ExecuteTime": {
     "end_time": "2025-08-30T06:27:47.965476Z",
     "start_time": "2025-08-30T06:27:47.938814Z"
    }
   },
   "cell_type": "code",
   "source": [
    "print(\"First 5 records:\")\n",
    "medical_rcds.head(5)"
   ],
   "id": "6daf5028db15b752",
   "outputs": [
    {
     "name": "stdout",
     "output_type": "stream",
     "text": [
      "First 5 records:\n"
     ]
    },
    {
     "data": {
      "text/plain": [
       "   Patient_ID  Age  Gender  Height_cm  Weight_kg  Blood_Pressure_Systolic  \\\n",
       "0           1   10    Male        152      160.8                      131   \n",
       "1           2  111  Female        172       31.1                      134   \n",
       "2           3   97  Female        159       24.7                      147   \n",
       "3           4  108  Female        146       61.3                      159   \n",
       "4           5    8    Male        172      112.9                      132   \n",
       "\n",
       "   Blood_Pressure_Diastolic Disease_Category  \n",
       "0                        91          Healthy  \n",
       "1                       100       Nephrology  \n",
       "2                        87     Hypertension  \n",
       "3                        99           Stroke  \n",
       "4                        92          Healthy  "
      ],
      "text/html": [
       "<div>\n",
       "<style scoped>\n",
       "    .dataframe tbody tr th:only-of-type {\n",
       "        vertical-align: middle;\n",
       "    }\n",
       "\n",
       "    .dataframe tbody tr th {\n",
       "        vertical-align: top;\n",
       "    }\n",
       "\n",
       "    .dataframe thead th {\n",
       "        text-align: right;\n",
       "    }\n",
       "</style>\n",
       "<table border=\"1\" class=\"dataframe\">\n",
       "  <thead>\n",
       "    <tr style=\"text-align: right;\">\n",
       "      <th></th>\n",
       "      <th>Patient_ID</th>\n",
       "      <th>Age</th>\n",
       "      <th>Gender</th>\n",
       "      <th>Height_cm</th>\n",
       "      <th>Weight_kg</th>\n",
       "      <th>Blood_Pressure_Systolic</th>\n",
       "      <th>Blood_Pressure_Diastolic</th>\n",
       "      <th>Disease_Category</th>\n",
       "    </tr>\n",
       "  </thead>\n",
       "  <tbody>\n",
       "    <tr>\n",
       "      <th>0</th>\n",
       "      <td>1</td>\n",
       "      <td>10</td>\n",
       "      <td>Male</td>\n",
       "      <td>152</td>\n",
       "      <td>160.8</td>\n",
       "      <td>131</td>\n",
       "      <td>91</td>\n",
       "      <td>Healthy</td>\n",
       "    </tr>\n",
       "    <tr>\n",
       "      <th>1</th>\n",
       "      <td>2</td>\n",
       "      <td>111</td>\n",
       "      <td>Female</td>\n",
       "      <td>172</td>\n",
       "      <td>31.1</td>\n",
       "      <td>134</td>\n",
       "      <td>100</td>\n",
       "      <td>Nephrology</td>\n",
       "    </tr>\n",
       "    <tr>\n",
       "      <th>2</th>\n",
       "      <td>3</td>\n",
       "      <td>97</td>\n",
       "      <td>Female</td>\n",
       "      <td>159</td>\n",
       "      <td>24.7</td>\n",
       "      <td>147</td>\n",
       "      <td>87</td>\n",
       "      <td>Hypertension</td>\n",
       "    </tr>\n",
       "    <tr>\n",
       "      <th>3</th>\n",
       "      <td>4</td>\n",
       "      <td>108</td>\n",
       "      <td>Female</td>\n",
       "      <td>146</td>\n",
       "      <td>61.3</td>\n",
       "      <td>159</td>\n",
       "      <td>99</td>\n",
       "      <td>Stroke</td>\n",
       "    </tr>\n",
       "    <tr>\n",
       "      <th>4</th>\n",
       "      <td>5</td>\n",
       "      <td>8</td>\n",
       "      <td>Male</td>\n",
       "      <td>172</td>\n",
       "      <td>112.9</td>\n",
       "      <td>132</td>\n",
       "      <td>92</td>\n",
       "      <td>Healthy</td>\n",
       "    </tr>\n",
       "  </tbody>\n",
       "</table>\n",
       "</div>"
      ]
     },
     "execution_count": 10,
     "metadata": {},
     "output_type": "execute_result"
    }
   ],
   "execution_count": 10
  },
  {
   "metadata": {
    "ExecuteTime": {
     "end_time": "2025-08-30T06:31:16.387997Z",
     "start_time": "2025-08-30T06:31:16.384554Z"
    }
   },
   "cell_type": "code",
   "source": "medical_rcds.columns\n",
   "id": "714ea4aa4cfc563f",
   "outputs": [
    {
     "data": {
      "text/plain": [
       "Index(['Patient_ID', 'Age', 'Gender', 'Height_cm', 'Weight_kg',\n",
       "       'Blood_Pressure_Systolic', 'Blood_Pressure_Diastolic',\n",
       "       'Disease_Category'],\n",
       "      dtype='object')"
      ]
     },
     "execution_count": 14,
     "metadata": {},
     "output_type": "execute_result"
    }
   ],
   "execution_count": 14
  },
  {
   "metadata": {
    "ExecuteTime": {
     "end_time": "2025-08-30T06:39:59.169465Z",
     "start_time": "2025-08-30T06:39:59.149749Z"
    }
   },
   "cell_type": "code",
   "source": [
    "print(\"Summary Statistics:\")\n",
    "print(medical_rcds.describe(include='all'))"
   ],
   "id": "513fec95e04eb91d",
   "outputs": [
    {
     "name": "stdout",
     "output_type": "stream",
     "text": [
      "Summary Statistics:\n",
      "         Patient_ID          Age Gender    Height_cm    Weight_kg  \\\n",
      "count   1000.000000  1000.000000   1000  1000.000000  1000.000000   \n",
      "unique          NaN          NaN      2          NaN          NaN   \n",
      "top             NaN          NaN   Male          NaN          NaN   \n",
      "freq            NaN          NaN    508          NaN          NaN   \n",
      "mean     500.500000    59.068000    NaN   161.067000    83.054200   \n",
      "std      288.819436    33.144591    NaN     9.982392    46.915766   \n",
      "min        1.000000     1.000000    NaN   145.000000     2.000000   \n",
      "25%      250.750000    29.000000    NaN   152.000000    42.100000   \n",
      "50%      500.500000    60.500000    NaN   161.000000    83.150000   \n",
      "75%      750.250000    87.000000    NaN   170.000000   122.850000   \n",
      "max     1000.000000   115.000000    NaN   178.000000   166.800000   \n",
      "\n",
      "        Blood_Pressure_Systolic  Blood_Pressure_Diastolic Disease_Category  \n",
      "count               1000.000000               1000.000000             1000  \n",
      "unique                      NaN                       NaN                7  \n",
      "top                         NaN                       NaN           Stroke  \n",
      "freq                        NaN                       NaN              164  \n",
      "mean                 134.509000                 87.583000              NaN  \n",
      "std                   14.757564                 10.521398              NaN  \n",
      "min                  110.000000                 70.000000              NaN  \n",
      "25%                  122.000000                 78.000000              NaN  \n",
      "50%                  135.000000                 88.000000              NaN  \n",
      "75%                  147.000000                 96.000000              NaN  \n",
      "max                  160.000000                105.000000              NaN  \n"
     ]
    }
   ],
   "execution_count": 19
  },
  {
   "metadata": {},
   "cell_type": "markdown",
   "source": "Filter the data to include only patients diagnosed with Stroke:",
   "id": "41aab82b670eaddd"
  },
  {
   "metadata": {
    "ExecuteTime": {
     "end_time": "2025-08-30T06:44:14.002170Z",
     "start_time": "2025-08-30T06:44:13.984500Z"
    }
   },
   "cell_type": "code",
   "source": [
    "stroke_data = medical_rcds[medical_rcds['Disease_Category'] == 'Stroke']\n",
    "print(\"Stroke data Summary:\")\n",
    "print(stroke_data.describe(include='all'))"
   ],
   "id": "c33d5b9e9218962c",
   "outputs": [
    {
     "name": "stdout",
     "output_type": "stream",
     "text": [
      "Stroke data Summary:\n",
      "        Patient_ID         Age Gender   Height_cm   Weight_kg  \\\n",
      "count   164.000000  164.000000    164  164.000000  164.000000   \n",
      "unique         NaN         NaN      2         NaN         NaN   \n",
      "top            NaN         NaN   Male         NaN         NaN   \n",
      "freq           NaN         NaN     84         NaN         NaN   \n",
      "mean    474.170732   57.097561    NaN  160.817073   84.425000   \n",
      "std     289.189403   32.856487    NaN    9.818760   46.449049   \n",
      "min       4.000000    2.000000    NaN  145.000000    4.900000   \n",
      "25%     228.250000   26.750000    NaN  151.000000   45.050000   \n",
      "50%     443.000000   57.500000    NaN  160.000000   84.250000   \n",
      "75%     715.250000   86.000000    NaN  169.000000  130.200000   \n",
      "max     993.000000  115.000000    NaN  178.000000  164.700000   \n",
      "\n",
      "        Blood_Pressure_Systolic  Blood_Pressure_Diastolic Disease_Category  \n",
      "count                164.000000                164.000000              164  \n",
      "unique                      NaN                       NaN                1  \n",
      "top                         NaN                       NaN           Stroke  \n",
      "freq                        NaN                       NaN              164  \n",
      "mean                 133.853659                 87.006098              NaN  \n",
      "std                   14.499521                 10.837051              NaN  \n",
      "min                  110.000000                 70.000000              NaN  \n",
      "25%                  121.000000                 78.000000              NaN  \n",
      "50%                  135.000000                 87.500000              NaN  \n",
      "75%                  144.250000                 96.250000              NaN  \n",
      "max                  160.000000                105.000000              NaN  \n"
     ]
    }
   ],
   "execution_count": 23
  },
  {
   "metadata": {},
   "cell_type": "markdown",
   "source": "Grouping and Analyzing by Disease Category",
   "id": "dd563c97c3c4461f"
  },
  {
   "metadata": {
    "ExecuteTime": {
     "end_time": "2025-08-30T06:45:52.787861Z",
     "start_time": "2025-08-30T06:45:52.742830Z"
    }
   },
   "cell_type": "code",
   "source": [
    "disease_stats = medical_rcds.groupby('Disease_Category').describe(include='all')\n",
    "print(\"Statistics by Disease Category:\")\n",
    "print(disease_stats)"
   ],
   "id": "104633181ac263a7",
   "outputs": [
    {
     "name": "stdout",
     "output_type": "stream",
     "text": [
      "Statistics by Disease Category:\n",
      "                 Patient_ID                                               \\\n",
      "                      count unique top freq        mean         std  min   \n",
      "Disease_Category                                                           \n",
      "Cancer                131.0    NaN NaN  NaN  496.274809  287.514790  9.0   \n",
      "Diabetes              140.0    NaN NaN  NaN  517.085714  286.847401  6.0   \n",
      "Healthy               135.0    NaN NaN  NaN  527.970370  299.616146  1.0   \n",
      "Heart Disease         153.0    NaN NaN  NaN  517.692810  291.075960  8.0   \n",
      "Hypertension          137.0    NaN NaN  NaN  474.525547  272.902808  3.0   \n",
      "Nephrology            140.0    NaN NaN  NaN  498.850000  294.888954  2.0   \n",
      "Stroke                164.0    NaN NaN  NaN  474.170732  289.189403  4.0   \n",
      "\n",
      "                                         ... Blood_Pressure_Diastolic      \\\n",
      "                     25%    50%     75%  ...                   unique top   \n",
      "Disease_Category                         ...                                \n",
      "Cancer            264.00  490.0  756.00  ...                      NaN NaN   \n",
      "Diabetes          251.75  515.0  764.25  ...                      NaN NaN   \n",
      "Healthy           262.50  560.0  811.50  ...                      NaN NaN   \n",
      "Heart Disease     285.00  518.0  755.00  ...                      NaN NaN   \n",
      "Hypertension      243.00  459.0  676.00  ...                      NaN NaN   \n",
      "Nephrology        209.75  513.5  750.25  ...                      NaN NaN   \n",
      "Stroke            228.25  443.0  715.25  ...                      NaN NaN   \n",
      "\n",
      "                                                                              \n",
      "                 freq       mean        std   min   25%   50%     75%    max  \n",
      "Disease_Category                                                              \n",
      "Cancer            NaN  88.015267   9.516774  71.0  81.0  88.0   95.00  105.0  \n",
      "Diabetes          NaN  87.671429  10.717056  70.0  78.0  87.5   96.00  105.0  \n",
      "Healthy           NaN  86.711111  10.865437  70.0  77.0  88.0   95.50  105.0  \n",
      "Heart Disease     NaN  87.869281  10.699049  70.0  78.0  90.0   97.00  105.0  \n",
      "Hypertension      NaN  86.481752   9.904026  70.0  78.0  86.0   94.00  105.0  \n",
      "Nephrology        NaN  89.371429  10.841794  70.0  78.0  89.0  100.00  105.0  \n",
      "Stroke            NaN  87.006098  10.837051  70.0  78.0  87.5   96.25  105.0  \n",
      "\n",
      "[7 rows x 77 columns]\n"
     ]
    }
   ],
   "execution_count": 24
  },
  {
   "metadata": {},
   "cell_type": "markdown",
   "source": [
    "Exploratory Data Analysis:\n",
    "1. Visualizing Age Distribution by Disease Category (Box Plot)"
   ],
   "id": "d5d1790cad60e2fd"
  },
  {
   "metadata": {
    "ExecuteTime": {
     "end_time": "2025-08-30T06:51:50.343693Z",
     "start_time": "2025-08-30T06:51:50.175988Z"
    }
   },
   "cell_type": "code",
   "source": [
    "sns.boxplot(\n",
    "    x=\"Disease_Category\",\n",
    "    y = \"Age\",\n",
    "    data=medical_rcds\n",
    ")\n",
    "plt.title('Distribution of Age by Disease Category')\n",
    "plt.xlabel('Disease Category')\n",
    "plt.ylabel('Age')\n",
    "plt.xticks(rotation=45)\n",
    "plt.show()"
   ],
   "id": "5b0970db79dd8cbe",
   "outputs": [
    {
     "data": {
      "text/plain": [
       "<Figure size 640x480 with 1 Axes>"
      ],
      "image/png": "[encoded data removed]"
     },
     "metadata": {},
     "output_type": "display_data"
    }
   ],
   "execution_count": 25
  }
 ],
 "metadata": {
  "kernelspec": {
   "display_name": "Python 3",
   "language": "python",
   "name": "python3"
  },
  "language_info": {
   "codemirror_mode": {
    "name": "ipython",
    "version": 2
   },
   "file_extension": ".py",
   "mimetype": "text/x-python",
   "name": "python",
   "nbconvert_exporter": "python",
   "pygments_lexer": "ipython2",
   "version": "2.7.6"
  }
 },
 "nbformat": 4,
 "nbformat_minor": 5
}
